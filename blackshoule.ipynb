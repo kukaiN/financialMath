{
 "cells": [
  {
   "cell_type": "code",
   "execution_count": 5,
   "metadata": {},
   "outputs": [],
   "source": [
    "import math\n",
    "import numpy as np\n",
    "from numpy.lib.scimath import log,sqrt\n",
    "from scipy import stats\n",
    "def bs_call(S,X,T,r,sigma):\n",
    "    print(\"this is calculating the no-arbitage price of a BS call option\")\n",
    "    d1=(r*T+sigma*sigma*T/2+log(S/X))/(sigma*sqrt(T))\n",
    "    d2 = d1-sigma*sqrt(T)\n",
    "    print(\"omega:\")\n",
    "    print(d1, d2)\n",
    "    print(\"\\nphi(omega), phi(omega-t*sigm)\")\n",
    "    print(stats.norm.cdf(d1, 0.0, 1.0), stats.norm.cdf(d2, 0.0, 1.0))\n",
    "    print(\"\\n******\")\n",
    "    print(X*stats.norm.cdf(d1, 0.0, 1.0), -S*np.exp(-r*T)*stats.norm.cdf(d2, 0.0, 1.0))\n",
    "    call = X*stats.norm.cdf(d1, 0.0, 1.0)-S*np.exp(-r*T)*stats.norm.cdf(d2, 0.0, 1.0)\n",
    "    print(\"\\ncall price is: \", call)\n",
    "    return call\n",
    "\n",
    "\n",
    "def bs_put(S, X, T, r, sigma):\n",
    "    call = bs_call(S, X, T, r, sigma)\n",
    "    p1 = S*np.exp(-r*T)\n",
    "    print(\"k*e^-rt =\", S*np.exp(-r*T))\n",
    "    return call + p1 - X\n",
    "\n",
    "def p_worthless(K, S0, T, r, sigma):\n",
    "    print(\"\\nCalculating the actual probability of the option being worthless\")\n",
    "    print(\"**** check if this is a call option ****\")\n",
    "    z_val = (log(K/S0) - r*T) / (sigma*sqrt(T))\n",
    "    print(f\"Z-score val is: {z_val}\")\n",
    "    print(f\"P(Z < {z_val})\")\n",
    "    prob = stats.norm.cdf(z_val, 0.0, 1.0)\n",
    "    print(f\"\\nprobability of being worthless\\n{prob}\")\n",
    "    \n",
    "    \n",
    "def phi(S0, K, t, r, sigma):\n",
    "    z_val =  ((r+(sigma*sigma/2))*t + log(S0/K))/ (sigma*sqrt(t))\n",
    "    print(\"\\ncheck the sign of the z val it should be P(Z < z_val) if not do 1-P(Z-z_val)\")\n",
    "    print(\"Z_val =\", z_val)\n",
    "    prob = stats.norm.cdf(z_val, 0.0, 1.0)\n",
    "    print(\"P =\", prob)\n",
    "    print(\"1-P =\", 1-prob)\n",
    "    \n",
    "def cash_or_nothing_call(F, K, S0, sigma, r, T):\n",
    "    print(\"calculating the price of a cash or nothing call\")\n",
    "    print(\"sigma*sqrt(t) =\", sigma*sqrt(T))\n",
    "    d1 = (r*T+sigma*sigma*T/2+log(S0/K))/(sigma*sqrt(T))\n",
    "    print(\"\\nequation for d1 = (r+sigma^2/2)*T-ln(S0/K))/(sigma*sqrt(T))\")\n",
    "    print(\"\\nd1 =\", d1)\n",
    "    d2 = d1-sigma*sqrt(T)\n",
    "    print(\"d2 = d1- sigma*sqrt(t) = \", d2)\n",
    "    phi_d2 = stats.norm.cdf(d2, 0.0, 1.0)\n",
    "    print(\"phi(d2) = \", phi_d2)\n",
    "    ert = np.exp(-r*T)\n",
    "    print(\"e^-rt = \", ert )\n",
    "    c = ert*F*phi_d2\n",
    "    print(\"call price = \", c)\n",
    "    return c"
   ]
  },
  {
   "cell_type": "code",
   "execution_count": null,
   "metadata": {},
   "outputs": [],
   "source": [
    "K = 30\n",
    "S0 = 28\n",
    "T = 3/12\n",
    "r = 0.1\n",
    "sigma = 0.3\n",
    "\n",
    "x = bs_call(K, S0, T, r, sigma)\n",
    "print(x)"
   ]
  },
  {
   "cell_type": "code",
   "execution_count": null,
   "metadata": {},
   "outputs": [],
   "source": [
    "K = 50\n",
    "S0 = 52\n",
    "T = 1/2\n",
    "r = 0.05\n",
    "sigma = 0.2\n",
    "\n",
    "x = bs_put(K, S0, T, r, sigma)\n",
    "print(x)"
   ]
  },
  {
   "cell_type": "code",
   "execution_count": null,
   "metadata": {},
   "outputs": [],
   "source": [
    "K = 100\n",
    "S0 = 90\n",
    "T = 3/12\n",
    "r = 0.04\n",
    "sigma = 0.3\n",
    "\n",
    "x = bs_call(K, S0, T, r, sigma)\n",
    "z = p_worthless(K, S0, T, r, sigma)\n",
    "\n",
    "\n",
    "print(\"*\"*20)\n",
    "print(\"new securities\")\n",
    "S0 = 100\n",
    "t_new = 1/2\n",
    "K_new = 95\n",
    "r = 0.05\n",
    "sigma = 0.2\n",
    "y = phi(S0, K_new, t_new, r, sigma)\n",
    "\n",
    "y = phi(1,2, 0.5, r, sigma)"
   ]
  },
  {
   "cell_type": "code",
   "execution_count": 3,
   "metadata": {},
   "outputs": [
    {
     "name": "stdout",
     "output_type": "stream",
     "text": [
      "calculating the price of a cash or nothing call\n",
      "sigma*sqrt(t) = 0.22627416997969524\n",
      "\n",
      "equation for d1 = (r+sigma^2/2)*T-ln(S0/K))/(sigma*sqrt(T))\n",
      "\n",
      "d1 = 0.019033129644607166\n",
      "d2 = d1- sigma*sqrt(t) =  -0.20724104033508808\n",
      "phi(d2) =  0.4179108087100088\n",
      "e^-rt =  0.9704455335485082\n",
      "call price =  40.555967773427305\n"
     ]
    },
    {
     "data": {
      "text/plain": [
       "40.555967773427305"
      ]
     },
     "execution_count": 3,
     "metadata": {},
     "output_type": "execute_result"
    }
   ],
   "source": [
    "K = 40\n",
    "S0 = 38\n",
    "F = 100\n",
    "sigma = 0.32\n",
    "t = 1/2\n",
    "r = 0.06\n",
    "\n",
    "cash_or_nothing_call(F, K, S0, sigma, r, t)\n"
   ]
  },
  {
   "cell_type": "code",
   "execution_count": 6,
   "metadata": {},
   "outputs": [
    {
     "name": "stdout",
     "output_type": "stream",
     "text": [
      "\n",
      "check the sign of the z val it should be P(Z < z_val) if not do 1-P(Z-z_val)\n",
      "Z_val = 0.47823323596887624\n",
      "P = 0.6837578953052836\n",
      "1-P = 0.31624210469471636\n",
      "\n",
      "check the sign of the z val it should be P(Z < z_val) if not do 1-P(Z-z_val)\n",
      "Z_val = 0.2280245895764199\n",
      "P = 0.5901864378422009\n",
      "1-P = 0.40981356215779907\n"
     ]
    }
   ],
   "source": [
    "K = 95\n",
    "S0 = 100\n",
    "t = 1\n",
    "r = 0.06\n",
    "drift = 0.05\n",
    "sigma = 0.4\n",
    "\n",
    "phi(S0, K, t, r, sigma)\n",
    "\n",
    "# hw 20 q 3\n",
    "S0 = 1\n",
    "K = 1.05\n",
    "phi(S0, K, t, r, sigma)"
   ]
  },
  {
   "cell_type": "code",
   "execution_count": null,
   "metadata": {},
   "outputs": [],
   "source": []
  }
 ],
 "metadata": {
  "kernelspec": {
   "display_name": "Python 3",
   "language": "python",
   "name": "python3"
  },
  "language_info": {
   "codemirror_mode": {
    "name": "ipython",
    "version": 3
   },
   "file_extension": ".py",
   "mimetype": "text/x-python",
   "name": "python",
   "nbconvert_exporter": "python",
   "pygments_lexer": "ipython3",
   "version": "3.7.6"
  }
 },
 "nbformat": 4,
 "nbformat_minor": 4
}
