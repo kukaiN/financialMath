{
 "cells": [
  {
   "cell_type": "markdown",
   "metadata": {},
   "source": [
    "# Run this first cell to define all the functions:"
   ]
  },
  {
   "cell_type": "code",
   "execution_count": 2,
   "metadata": {},
   "outputs": [],
   "source": [
    "import financialmath as FM"
   ]
  },
  {
   "cell_type": "markdown",
   "metadata": {},
   "source": [
    "# 2 securities (K1 and K2), 3 scenarios ==> find everthing else"
   ]
  },
  {
   "cell_type": "code",
   "execution_count": null,
   "metadata": {},
   "outputs": [],
   "source": [
    "p = [\"0.2\", \"0.4\", \"0.4\"]\n",
    "k1 = [\"-0.1\", \"0\",\"0.1\"]\n",
    "k2 = [\"0.05\", \"0.1\", \"-0.05\"]\n",
    "\n",
    "FM.two_securities(p, k1, k2)"
   ]
  },
  {
   "cell_type": "markdown",
   "metadata": {},
   "source": [
    "# HW8 question 1"
   ]
  },
  {
   "cell_type": "code",
   "execution_count": null,
   "metadata": {},
   "outputs": [],
   "source": [
    "# w1, w2, ...., wm\n",
    "weights = [0.3, 0.1, 0.6]\n",
    "means = [0.08, 0.1, 0.06]\n",
    "stdDevs = [0.15, 0.05, 0.12]\n",
    "\n",
    "# each entry represent correlation of (i, j) ans stored in the form [(i, j), value]\n",
    "correlation = [\n",
    "    [[1, 2], 0.3],\n",
    "    [[2, 3], 0],\n",
    "    [[1, 3], -0.2],\n",
    "]\n",
    "\n",
    "\n",
    "mu_V = meanV(weights, means) \n",
    "cMatrix = makeCMatrix(correlation, stdDevs)\n",
    "wCwT = find_wCwT(weights, cMatrix)\n",
    "np.set_printoptions(suppress=True)\n",
    "print(\"Expected value of portfolio is:\", mu_V)\n",
    "print(\"Correlation matrix is:\")\n",
    "print(np.array(cMatrix))\n",
    "print(\"w*C*wT is: \", wCwT)\n",
    "print(\"stdDev of portfolio is\", math.sqrt(wCwT))\n",
    "print(\"\\n\", \"*\"* 20, \"\\n\")\n",
    "cInverse = np.linalg.inv(cMatrix)\n",
    "print(\"here is the inverse of C:\")\n",
    "print(cInverse)\n",
    "m = np.array(means)\n",
    "u = np.array([1 for _ in means])\n",
    "print(\"m is:\", m)\n",
    "print(\"u is:\", u)\n",
    "print(\"calculating M\")\n",
    "Mmatrix = makeM(m, cInverse, u)\n",
    "print(\"here is M:\")\n",
    "print(Mmatrix)\n",
    "print(\"here is M inverse:\")\n",
    "MmatrixInv = np.linalg.inv(Mmatrix)\n",
    "print(MmatrixInv)"
   ]
  },
  {
   "cell_type": "markdown",
   "metadata": {},
   "source": [
    "# HW 7 Part 2:"
   ]
  },
  {
   "cell_type": "code",
   "execution_count": null,
   "metadata": {},
   "outputs": [],
   "source": [
    "m = [0.2, 0.13, 0.17]\n",
    "stdDevs = [0.25, 0.28, 0.20]\n",
    "correlation= [\n",
    "    [[1,2], 0.25],\n",
    "    [[2,3], 0],\n",
    "    [[3,1], 0.15]]\n",
    "\n",
    "find_W_MVP(m, stdDevs, correlation)"
   ]
  },
  {
   "cell_type": "markdown",
   "metadata": {},
   "source": [
    "# HW 8, Problem 3:"
   ]
  },
  {
   "cell_type": "code",
   "execution_count": null,
   "metadata": {},
   "outputs": [],
   "source": [
    "m = [0.2, 0.1, 0.2]\n",
    "stdDevs = [0.25, 0.2, 0.25]\n",
    "correlation= [\n",
    "    [[1,2], 0.25],\n",
    "    [[2,3], 0.05],\n",
    "    [[3,1], 0.15]]\n",
    "\n",
    "FM.find_W_MVP(m, stdDevs, correlation)"
   ]
  },
  {
   "cell_type": "markdown",
   "metadata": {},
   "source": [
    "# HW 9 Problem 1"
   ]
  },
  {
   "cell_type": "code",
   "execution_count": 3,
   "metadata": {},
   "outputs": [
    {
     "name": "stdout",
     "output_type": "stream",
     "text": [
      "m is: [0.2  0.15 0.17] \n",
      "u is: [1 1 1]\n",
      "\n",
      "C matrix is:\n",
      "[[0.0625 0.0175 0.0075]\n",
      " [0.0175 0.0784 0.    ]\n",
      " [0.0075 0.     0.04  ]]\n",
      "\n",
      "here is the inverse of C:\n",
      " [[17.4863388  -3.90320062 -3.27868852]\n",
      " [-3.90320062 13.62635218  0.73185012]\n",
      " [-3.27868852  0.73185012 25.6147541 ]]\n",
      "\n",
      "calculating M:\n",
      "Intermediate Calculations:\n",
      "M*C^-1 =  [2.35441062 1.38772722 3.80854801]\n",
      "u*C^-1 =  [10.30444965 10.45500167 23.06791569]\n",
      "\n",
      "here is M:\n",
      "[[ 1.32649437  7.55068585]\n",
      " [ 7.55068585 43.82736701]]\n",
      "\n",
      "here is M inverse:\n",
      "[[38.99583251 -6.71829728]\n",
      " [-6.71829728  1.18026146]]\n",
      "\n",
      "The weight in minimum variance portfolio is:\n",
      "[0.2351145  0.23854962 0.52633588]\n",
      "\n",
      "The Expected return of the MVP is:\n",
      "0.17228244274809162\n",
      "\n",
      "Variance is:\n",
      "intermediate calculation: w*C =  [0.02281679 0.02281679 0.02281679]\n",
      "wCwT = Varinace = \n",
      "0.022816793893129773\n",
      "\n",
      "The Std.Dev of the portfolio is:\n",
      "0.1510522886060644\n",
      "********************\n",
      "********************\n",
      "\n",
      "calculating for a and b:\n",
      "[a, b].T = M^-1 * [m, u].T * C^-1\n",
      "this is vector a:  [ 22.583846 -16.124231  -6.459615]\n",
      "this is vector b:  [-3.65568565  3.01647152  1.63921413]\n",
      "\n",
      "equations parametereized by MUv:\n",
      "w0 = 22.583846001190768*MUv + -3.6556856519150713\n",
      "w1 = -16.12423099821398*MUv + 3.016471522127416\n",
      "w2 = -6.459615002976788*MUv + 1.6392141297876575\n",
      "********************\n",
      "\n",
      "a, b doesnt change for each portfolio on the minimum variance line\n",
      "to get the weights that satisfy a specific E[Kv], \n",
      "we solve the linear equation: w = mu * a + b\n",
      "w = [ 0.86108355 -0.20837468  0.34729113]\n",
      "\n",
      "Variance is:\n",
      "intermediate calculation: w*C =  [ 0.05277585 -0.00126761  0.02034977]\n",
      "wCwT = Varinace = \n",
      "0.052775848382615884\n",
      "\n",
      "The Std.Dev of the portfolio is:\n",
      "0.22972994663869115\n",
      "********************\n"
     ]
    }
   ],
   "source": [
    "mu = [0.2, 0.15, 0.17]\n",
    "stdevs = [0.25, 0.28, 0.2]\n",
    "corr = [\n",
    "    [[1, 2],0.25],\n",
    "    [[2,3], 0.0],\n",
    "    [[1, 3], 0.15]\n",
    "    ]\n",
    "muV = 0.2\n",
    "\n",
    "x = FM.portfolio_MVP(mu, stdevs, corr)\n",
    "x.W_MVP_Given_Ev(muV)"
   ]
  },
  {
   "cell_type": "markdown",
   "metadata": {},
   "source": [
    "# HW 9 Problem 2:"
   ]
  },
  {
   "cell_type": "code",
   "execution_count": 2,
   "metadata": {},
   "outputs": [
    {
     "name": "stdout",
     "output_type": "stream",
     "text": [
      "m is: [0.16 0.13 0.13] \n",
      "u is: [1 1 1]\n",
      "\n",
      "C matrix is:\n",
      "[[0.0625 0.021  0.0075]\n",
      " [0.021  0.0784 0.    ]\n",
      " [0.0075 0.     0.04  ]]\n",
      "\n",
      "here is the inverse of C:\n",
      " [[18.02816901 -4.82897384 -3.38028169]\n",
      " [-4.82897384 14.04857718  0.9054326 ]\n",
      " [-3.38028169  0.9054326  25.63380282]]\n",
      "\n",
      "calculating M:\n",
      "Intermediate Calculations:\n",
      "M*C^-1 =  [1.81730382 1.17138546 2.90925553]\n",
      "u*C^-1 =  [ 9.81891348 10.12503593 23.15895372]\n",
      "\n",
      "here is M:\n",
      "[[ 0.82125194  5.89794481]\n",
      " [ 5.89794481 43.10290313]]\n",
      "\n",
      "here is M inverse:\n",
      "[[70.36176802 -9.6278857 ]\n",
      " [-9.6278857   1.34062289]]\n",
      "\n",
      "The weight in minimum variance portfolio is:\n",
      "[0.22780167 0.2349038  0.53729452]\n",
      "\n",
      "The Expected return of the MVP is:\n",
      "0.1368340502150645\n",
      "\n",
      "Variance is:\n",
      "intermediate calculation: w*C =  [0.02320029 0.02320029 0.02320029]\n",
      "wCwT = Varinace = \n",
      "0.023200293421359743\n",
      "\n",
      "The Std.Dev of the portfolio is:\n",
      "0.1523164253170345\n",
      "********************\n",
      "\n",
      "calculating for a and b:\n",
      "[a, b].T = M^-1 * [m, u].T * C^-1\n",
      "this is vector a:  [ 33.33333333 -15.06193694 -18.2713964 ]\n",
      "this is vector b:  [-4.33333333  2.29588964  3.03744369]\n",
      "\n",
      "equations parametereized by MUv:\n",
      "w0 = 33.33333333333338*MUv + -4.333333333333337\n",
      "w1 = -15.061936936936968*MUv + 2.2958896396396455\n",
      "w2 = -18.27139639639644*MUv + 3.0374436936937044\n",
      "********************\n",
      "\n",
      "for mu = 0:\n",
      "w = [-4.33333333  2.29588964  3.03744369]\n",
      "\n",
      "for mu = 0.1:\n",
      "w = [-1.          0.78969595  1.21030405]\n",
      "\n",
      "mu=0,   w2 = 2.2958896396396455\n",
      "mu=0,   w3 = 3.0374436936937044\n",
      "mu=0.1, w'2 = 2.2958896396396455\n",
      "mu=0.1, w'3 = 3.0374436936937044\n",
      "\n",
      "equation for slope: slope = (w3 - w'3) / (w2 - w'2)\n",
      "slope = 1.2130841121495333, for graph with (x var: w2, y var: w3)\n",
      "\n",
      "equation for the line on plane (x var: w2, y var: w3):\n",
      " = 1.2130841121495333 * w2 + 0.252336448598133\n",
      "sample points:\n",
      "               0         1        2         3         4         5\n",
      "x axis  0.000000  0.200000  0.40000  0.600000  0.800000  1.000000\n",
      "y axis  0.252336  0.494953  0.73757  0.980187  1.222804  1.465421\n"
     ]
    }
   ],
   "source": [
    "mu = [0.16, 0.13, 0.13]\n",
    "stdevs = [0.25, 0.28, 0.2]\n",
    "corr = [\n",
    "    [[1, 2],0.3],\n",
    "    [[2,3], 0.0],\n",
    "    [[1, 3], 0.15]\n",
    "    ]\n",
    "\n",
    "x = FM.portfolio_MVP(mu, stdevs, corr)\n",
    "x.calculate_ab()\n",
    "x.calculate_MVL_slope(2, 3)"
   ]
  },
  {
   "cell_type": "markdown",
   "metadata": {},
   "source": [
    "# HW 9 part 3:"
   ]
  },
  {
   "cell_type": "code",
   "execution_count": 5,
   "metadata": {},
   "outputs": [
    {
     "name": "stdout",
     "output_type": "stream",
     "text": [
      "m is: [0.08 0.1  0.06] \n",
      "u is: [1 1 1]\n",
      "\n",
      "C matrix is:\n",
      "[[ 0.0225   0.00225 -0.0036 ]\n",
      " [ 0.00225  0.0025   0.     ]\n",
      " [-0.0036   0.       0.0144 ]]\n",
      "\n",
      "here is the inverse of C:\n",
      " [[ 51.08556833 -45.97701149  12.77139208]\n",
      " [-45.97701149 441.37931034 -11.49425287]\n",
      " [ 12.77139208 -11.49425287  72.63729246]]\n",
      "\n",
      "calculating M:\n",
      "Intermediate Calculations:\n",
      "M*C^-1 =  [ 0.25542784 39.77011494  4.23052363]\n",
      "u*C^-1 =  [ 17.87994891 383.90804598  73.91443167]\n",
      "\n",
      "here is M:\n",
      "[[  4.25127714  44.25606641]\n",
      " [ 44.25606641 475.70242656]]\n",
      "\n",
      "here is M inverse:\n",
      "[[ 7.46276714 -0.69428428]\n",
      " [-0.69428428  0.06669357]]\n",
      "\n",
      "The weight in minimum variance portfolio is:\n",
      "[0.03758642 0.80703403 0.15537956]\n",
      "\n",
      "The Expected return of the MVP is:\n",
      "0.0930330894690919\n",
      "\n",
      "Variance is:\n",
      "intermediate calculation: w*C =  [0.00210215 0.00210215 0.00210215]\n",
      "wCwT = Varinace = \n",
      "0.0021021545070138946\n",
      "\n",
      "The Std.Dev of the portfolio is:\n",
      "0.045849258521964066\n",
      "\n",
      "below is the work for the market portfolio\n",
      "********************\n",
      "\n",
      "weights in a market portfolio = ((m-R*u) * C^-1)/((m-R*u)* C^-1 * uT)\n",
      "intermediate steps: m-R*u = [0.03 0.05 0.01]\n",
      "(m-R*u)* C^-1 =  [-0.6385696  20.57471264  0.53480204]\n",
      "\n",
      "market portfolio weights = [-0.03119395  1.00506902  0.02612493]\n",
      "expected value is 0.09957888169695078\n",
      "\n",
      "Variance is:\n",
      "intermediate calculation: w*C =  [0.00146549 0.00244249 0.0004885 ]\n",
      "wCwT = Varinace =  0.0024219146451664956\n",
      "\n",
      "The Std.Dev of the portfolio is:\n",
      "0.04921295200621982\n",
      "********************\n"
     ]
    }
   ],
   "source": [
    "mu = [0.08, 0.1, 0.06]\n",
    "stdevs = [0.15, 0.05, 0.12]\n",
    "corr = [\n",
    "    [[1, 2],0.3],\n",
    "    [[2,3], 0.0],\n",
    "    [[1, 3], -0.2]\n",
    "    ]\n",
    "risk_free_rate = 0.05\n",
    "x = FM.portfolio_MVP(mu, stdevs, corr)\n",
    "print(\"\\nbelow is the work for the market portfolio\")\n",
    "x.market_portfolio(risk_free_rate)\n",
    "print(\"*\"*20)"
   ]
  },
  {
   "cell_type": "code",
   "execution_count": null,
   "metadata": {},
   "outputs": [],
   "source": []
  }
 ],
 "metadata": {
  "kernelspec": {
   "display_name": "Python 3",
   "language": "python",
   "name": "python3"
  },
  "language_info": {
   "codemirror_mode": {
    "name": "ipython",
    "version": 3
   },
   "file_extension": ".py",
   "mimetype": "text/x-python",
   "name": "python",
   "nbconvert_exporter": "python",
   "pygments_lexer": "ipython3",
   "version": "3.7.6"
  }
 },
 "nbformat": 4,
 "nbformat_minor": 4
}
