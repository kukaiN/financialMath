{
 "cells": [
  {
   "cell_type": "code",
   "execution_count": 23,
   "metadata": {},
   "outputs": [],
   "source": [
    "import math\n",
    "import numpy as np\n",
    "from numpy.lib.scimath import log,sqrt\n",
    "from scipy import stats\n",
    "def bs_call(S,X,T,r,sigma):\n",
    "    print(\"this is calculating the no-arbitage price of a BS call option\")\n",
    "    d1=(r*T+sigma*sigma*T/2-log(S/X))/(sigma*sqrt(T))\n",
    "    d2 = d1-sigma*sqrt(T)\n",
    "    print(\"omega:\")\n",
    "    print(d1, d2)\n",
    "    print(\"\\nphi(omega), phi(omega-t*sigm)\")\n",
    "    print(stats.norm.cdf(d1, 0.0, 1.0), stats.norm.cdf(d2, 0.0, 1.0))\n",
    "    print(\"\\n******\")\n",
    "    print(X*stats.norm.cdf(d1, 0.0, 1.0), -S*np.exp(-r*T)*stats.norm.cdf(d2, 0.0, 1.0))\n",
    "    call = X*stats.norm.cdf(d1, 0.0, 1.0)-S*np.exp(-r*T)*stats.norm.cdf(d2, 0.0, 1.0)\n",
    "    print(\"\\ncall price is: \", call)\n",
    "    return call\n",
    "\n",
    "\n",
    "def bs_put(S, X, T, r, sigma):\n",
    "    call = bs_call(S, X, T, r, sigma)\n",
    "    p1 = S*np.exp(-r*T)\n",
    "    print(\"k*e^-rt =\", S*np.exp(-r*T))\n",
    "    return call + p1 - X\n",
    "\n",
    "def p_worthless(K, S0, T, r, sigma):\n",
    "    print(\"\\nCalculating the actual probability of the option being worthless\")\n",
    "    print(\"**** check if this is a call option ****\")\n",
    "    z_val = (log(K/S0) - r*T) / (sigma*sqrt(T))\n",
    "    print(f\"Z-score val is: {z_val}\")\n",
    "    print(f\"P(Z < {z_val})\")\n",
    "    prob = stats.norm.cdf(z_val, 0.0, 1.0)\n",
    "    print(f\"\\nprobability of being worthless\\n{prob}\")\n",
    "    \n",
    "    \n",
    "def phi(S0, K, t, r, sigma):\n",
    "    z_val = (log(K/S0) - (r-(sigma*sigma/2))*t )/ (sigma*sqrt(t))\n",
    "    print(\"\\ncheck the sign of the z val it should be P(Z < z_val) if not do 1-P(Z-z_val)\")\n",
    "    print(\"Z_val =\", z_val)\n",
    "    prob = stats.norm.cdf(z_val, 0.0, 1.0)\n",
    "    print(\"P =\", prob)\n",
    "    print(\"1-P =\", 1-prob)"
   ]
  },
  {
   "cell_type": "code",
   "execution_count": 2,
   "metadata": {},
   "outputs": [
    {
     "name": "stdout",
     "output_type": "stream",
     "text": [
      "omega:\n",
      "0.5717673171695669 0.3596352828136026\n",
      "\n",
      "phi(omega), phi(omega-t*sigm)\n",
      "0.7162601890856848 0.6404400526439937\n",
      "\n",
      "******\n",
      "75.2073198539969 -60.920542270375314\n",
      "\n",
      "call price is:  14.286777583621593\n",
      "14.286777583621593\n"
     ]
    }
   ],
   "source": [
    "K = 100\n",
    "S0 = 105\n",
    "T = 1/2\n",
    "r = 0.1\n",
    "sigma = 0.3\n",
    "\n",
    "x = bs_call(K, S0, T, r, sigma)\n",
    "print(x)"
   ]
  },
  {
   "cell_type": "code",
   "execution_count": 13,
   "metadata": {},
   "outputs": [
    {
     "name": "stdout",
     "output_type": "stream",
     "text": [
      "omega:\n",
      "0.5717673171695669 0.3596352828136026\n",
      "\n",
      "phi(omega), phi(omega-t*sigm)\n",
      "0.7162601890856848 0.6404400526439937\n",
      "\n",
      "******\n",
      "75.2073198539969 -60.920542270375314\n",
      "\n",
      "call price is:  14.286777583621593\n",
      "k*e^-rt = 95.1229424500714\n",
      "4.409720033692992\n"
     ]
    }
   ],
   "source": [
    "K = 100\n",
    "S0 = 105\n",
    "T = 1/2\n",
    "r = 0.1\n",
    "sigma = 0.3\n",
    "\n",
    "x = bs_put(K, S0, T, r, sigma)\n",
    "print(x)"
   ]
  },
  {
   "cell_type": "code",
   "execution_count": 24,
   "metadata": {},
   "outputs": [
    {
     "name": "stdout",
     "output_type": "stream",
     "text": [
      "this is calculating the no-arbitage price of a BS call option\n",
      "omega:\n",
      "-0.5607367710521757 -0.7107367710521757\n",
      "\n",
      "phi(omega), phi(omega-t*sigm)\n",
      "0.2874884980366146 0.23862368440816745\n",
      "\n",
      "******\n",
      "25.873964823295314 -23.62493390769201\n",
      "\n",
      "call price is:  2.249030915603303\n",
      "\n",
      "Calculating the actual probability of the option being worthless\n",
      "**** check if this is a call option ****\n",
      "Z-score val is: 0.6357367710521757\n",
      "P(Z < 0.6357367710521757)\n",
      "\n",
      "probability of being worthless\n",
      "0.7375259973641795\n",
      "********************\n",
      "new securities\n",
      "\n",
      "check the sign of the z val it should be P(Z < z_val) if not do 1-P(Z-z_val)\n",
      "Z_val = 0.011785113019775787\n",
      "P = 0.5047014710322981\n",
      "1-P = 0.4952985289677019\n",
      "\n",
      "check the sign of the z val it should be P(Z < z_val) if not do 1-P(Z-z_val)\n",
      "Z_val = 3.279312257914933\n",
      "P = 0.9994796978816199\n",
      "1-P = 0.000520302118380056\n"
     ]
    }
   ],
   "source": [
    "K = 100\n",
    "S0 = 90\n",
    "T = 3/12\n",
    "r = 0.04\n",
    "sigma = 0.3\n",
    "\n",
    "x = bs_call(K, S0, T, r, sigma)\n",
    "z = p_worthless(K, S0, T, r, sigma)\n",
    "\n",
    "\n",
    "print(\"*\"*20)\n",
    "print(\"new securities\")\n",
    "S0 = S0\n",
    "t_new = 1/2\n",
    "K_new = 90\n",
    "r = r\n",
    "sigma = sigma\n",
    "y = phi(S0, K_new, t_new, r, sigma)\n",
    "\n",
    "y = phi(1,2, 0.5, r, sigma)"
   ]
  },
  {
   "cell_type": "code",
   "execution_count": null,
   "metadata": {},
   "outputs": [],
   "source": []
  }
 ],
 "metadata": {
  "kernelspec": {
   "display_name": "Python 3",
   "language": "python",
   "name": "python3"
  },
  "language_info": {
   "codemirror_mode": {
    "name": "ipython",
    "version": 3
   },
   "file_extension": ".py",
   "mimetype": "text/x-python",
   "name": "python",
   "nbconvert_exporter": "python",
   "pygments_lexer": "ipython3",
   "version": "3.7.6"
  }
 },
 "nbformat": 4,
 "nbformat_minor": 4
}
