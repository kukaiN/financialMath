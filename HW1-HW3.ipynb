{
 "cells": [
  {
   "cell_type": "markdown",
   "metadata": {},
   "source": [
    "# Run this first line to load requirements"
   ]
  },
  {
   "cell_type": "code",
   "execution_count": null,
   "metadata": {},
   "outputs": [],
   "source": []
  },
  {
   "cell_type": "code",
   "execution_count": 5,
   "metadata": {},
   "outputs": [],
   "source": [
    "# HW1 question 1\n",
    "import financialmath as FM\n",
    "import pandas as pd"
   ]
  },
  {
   "cell_type": "code",
   "execution_count": 9,
   "metadata": {},
   "outputs": [
    {
     "name": "stdout",
     "output_type": "stream",
     "text": [
      "V(0) is equal to 1600\n",
      "V(T) equals the following:\n"
     ]
    }
   ],
   "source": [
    "# this is a bond\n",
    "A0 = 90\n",
    "AT = 100\n",
    "y = 15\n",
    "\n",
    "# this is for a stock/ risky security\n",
    "S0 = 25\n",
    "Scenarios = [\"p\", \"1-p\"]\n",
    "ST = [30, 20]\n",
    "x = 10\n",
    "\n",
    "\n",
    "V0 = FM.calculate_V0([A0, S0], [y, x])\n",
    "VTcase1 = FM.calculate_VT([AT, ST[0]], [y, x])\n",
    "VTcase2 = FM.calculate_VT([AT, ST[1]], [y, x])\n",
    "Kcase1 = FM.ROI(V0, VTcase1)\n",
    "Kcase2 = FM.ROI(V0, VTcase2)\n",
    "\n",
    "VT_df = pd.DataFrame()\n",
    "\n",
    "print(\"V(0) is equal to\", V0)\n",
    "print(\"V(T) equals the following:\")\n",
    "\n",
    "\n",
    "#text = \"\"\"X(m,n)=\n",
    "#\\begin{cases}\n",
    "#{},\\\\\n",
    "#}\\\\\n",
    "#\\end{cases}\"\"\".format(ST[0], ST[1])\n",
    "\n",
    "#display(Math(r))\n",
    "\n"
   ]
  },
  {
   "cell_type": "code",
   "execution_count": null,
   "metadata": {},
   "outputs": [],
   "source": []
  },
  {
   "cell_type": "code",
   "execution_count": null,
   "metadata": {},
   "outputs": [],
   "source": []
  },
  {
   "cell_type": "markdown",
   "metadata": {},
   "source": [
    "# HW 1 Problem 3:\n",
    "A sum of \\\\$5000(principal) paid into a bank account for 3 months (90 days) (time) to attract simple interest will\n",
    "produce \\\\$5050 (finalPrice) at the end of the term. Find the interest rate r and the return on this investment."
   ]
  },
  {
   "cell_type": "code",
   "execution_count": 10,
   "metadata": {},
   "outputs": [
    {
     "name": "stdout",
     "output_type": "stream",
     "text": [
      "the return on investment is  0.01\n",
      "modified the equation Vt= V0*(1+r*t) to be ((VT-V0)/V0) / t = r\n",
      "plugging in values, the intrest rate, r, is equal to 0.04055555555555556\n"
     ]
    }
   ],
   "source": [
    "principal = 5000\n",
    "finalPrice = 5050\n",
    "time = 90/365\n",
    "\n",
    "roi = FM.ROI(principal, finalPrice)\n",
    "print(\"the return on investment is \", roi)\n",
    "r = FM.findUnknownRate(time, principal, finalPrice)\n",
    "print(\"plugging in values, the intrest rate, r, is equal to\", r)"
   ]
  },
  {
   "cell_type": "code",
   "execution_count": null,
   "metadata": {},
   "outputs": [],
   "source": []
  },
  {
   "cell_type": "code",
   "execution_count": null,
   "metadata": {},
   "outputs": [],
   "source": []
  },
  {
   "cell_type": "markdown",
   "metadata": {},
   "source": [
    "# HW 3 Problem 6"
   ]
  },
  {
   "cell_type": "code",
   "execution_count": 11,
   "metadata": {},
   "outputs": [
    {
     "name": "stdout",
     "output_type": "stream",
     "text": [
      "PA(0.12, 15) is 6.810864489465008\n",
      "using PV/PA = C, change it to PV = C*PA\n",
      "we get PV = 68108.64489465008\n"
     ]
    }
   ],
   "source": [
    "C = 10000\n",
    "time = 15\n",
    "rate = 0.12\n",
    "\n",
    "x = FM.PA(rate, time)\n",
    "print(f\"PA({rate}, {time}) is {x}\")\n",
    "print(\"using PV/PA = C, change it to PV = C*PA\")\n",
    "print(f\"we get PV = {C*x}\")"
   ]
  },
  {
   "cell_type": "markdown",
   "metadata": {},
   "source": [
    "# HW 3 problem 7"
   ]
  },
  {
   "cell_type": "code",
   "execution_count": 12,
   "metadata": {},
   "outputs": [
    {
     "name": "stdout",
     "output_type": "stream",
     "text": [
      "PA(0.05, 30) is 15.372451026882842\n",
      "using PV/PA = C, change it to PV = C*PA\n",
      "we get PV = 30744.902053765683\n",
      "to get the value after 30 years, we divide the PV by 1/(1+r)^t\n",
      "value after 30 year = 132877.6950060267\n"
     ]
    }
   ],
   "source": [
    "rate = 0.05\n",
    "time = 30\n",
    "C = 2000\n",
    "\n",
    "x = FM.PA(rate, time)\n",
    "print(f\"PA({rate}, {time}) is {x}\")\n",
    "print(\"using PV/PA = C, change it to PV = C*PA\")\n",
    "PV = C*x\n",
    "print(f\"we get PV = {PV}\")\n",
    "\n",
    "print(f\"to get the value after {time} years, we divide the PV by 1/(1+r)^t\")\n",
    "discount = 1/((1+rate)**time)\n",
    "print(f\"value after {time} year = {PV/discount}\")"
   ]
  },
  {
   "cell_type": "code",
   "execution_count": null,
   "metadata": {},
   "outputs": [],
   "source": []
  }
 ],
 "metadata": {
  "kernelspec": {
   "display_name": "Python 3",
   "language": "python",
   "name": "python3"
  },
  "language_info": {
   "codemirror_mode": {
    "name": "ipython",
    "version": 3
   },
   "file_extension": ".py",
   "mimetype": "text/x-python",
   "name": "python",
   "nbconvert_exporter": "python",
   "pygments_lexer": "ipython3",
   "version": "3.7.6"
  }
 },
 "nbformat": 4,
 "nbformat_minor": 4
}
