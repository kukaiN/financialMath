{
 "cells": [
  {
   "cell_type": "code",
   "execution_count": 12,
   "metadata": {},
   "outputs": [],
   "source": [
    "import math\n",
    "import numpy as np\n",
    "from numpy.lib.scimath import log,sqrt\n",
    "from scipy import stats\n",
    "def bs_call(S,X,T,r,sigma):\n",
    "    d1=(r*T+sigma*sigma*T/2-log(S/X))/(sigma*sqrt(T))\n",
    "    d2 = d1-sigma*sqrt(T)\n",
    "    print(\"omega:\")\n",
    "    print(d1, d2)\n",
    "    print(\"\\nphi(omega), phi(omega-t*sigm)\")\n",
    "    print(stats.norm.cdf(d1, 0.0, 1.0), stats.norm.cdf(d2, 0.0, 1.0))\n",
    "    print(\"\\n******\")\n",
    "    print(X*stats.norm.cdf(d1, 0.0, 1.0), -S*np.exp(-r*T)*stats.norm.cdf(d2, 0.0, 1.0))\n",
    "    call = X*stats.norm.cdf(d1, 0.0, 1.0)-S*np.exp(-r*T)*stats.norm.cdf(d2, 0.0, 1.0)\n",
    "    print(\"\\ncall price is: \", call)\n",
    "    return call\n",
    "\n",
    "\n",
    "def bs_put(S, X, T, r, sigma):\n",
    "    call = bs_call(S, X, T, r, sigma)\n",
    "    p1 = S*np.exp(-r*T)\n",
    "    print(\"k*e^-rt =\", S*np.exp(-r*T))\n",
    "    return call + p1 - X"
   ]
  },
  {
   "cell_type": "code",
   "execution_count": 10,
   "metadata": {},
   "outputs": [
    {
     "name": "stdout",
     "output_type": "stream",
     "text": [
      "omega:\n",
      "0.5717673171695669 0.3596352828136026\n",
      "\n",
      "phi(omega), phi(omega-t*sigm)\n",
      "0.7162601890856848 0.6404400526439937\n",
      "\n",
      "******\n",
      "75.2073198539969 -60.920542270375314\n",
      "14.286777583621593\n"
     ]
    }
   ],
   "source": [
    "K = 100\n",
    "S0 = 105\n",
    "T = 1/2\n",
    "r = 0.1\n",
    "sigma = 0.3\n",
    "\n",
    "x = bs_call(K, S0, T, r, sigma)\n",
    "print(x)"
   ]
  },
  {
   "cell_type": "code",
   "execution_count": 13,
   "metadata": {},
   "outputs": [
    {
     "name": "stdout",
     "output_type": "stream",
     "text": [
      "omega:\n",
      "0.5717673171695669 0.3596352828136026\n",
      "\n",
      "phi(omega), phi(omega-t*sigm)\n",
      "0.7162601890856848 0.6404400526439937\n",
      "\n",
      "******\n",
      "75.2073198539969 -60.920542270375314\n",
      "\n",
      "call price is:  14.286777583621593\n",
      "k*e^-rt = 95.1229424500714\n",
      "4.409720033692992\n"
     ]
    }
   ],
   "source": [
    "K = 100\n",
    "S0 = 105\n",
    "T = 1/2\n",
    "r = 0.1\n",
    "sigma = 0.3\n",
    "\n",
    "x = bs_put(K, S0, T, r, sigma)\n",
    "print(x)"
   ]
  },
  {
   "cell_type": "code",
   "execution_count": null,
   "metadata": {},
   "outputs": [],
   "source": []
  },
  {
   "cell_type": "code",
   "execution_count": null,
   "metadata": {},
   "outputs": [],
   "source": []
  }
 ],
 "metadata": {
  "kernelspec": {
   "display_name": "Python 3",
   "language": "python",
   "name": "python3"
  },
  "language_info": {
   "codemirror_mode": {
    "name": "ipython",
    "version": 3
   },
   "file_extension": ".py",
   "mimetype": "text/x-python",
   "name": "python",
   "nbconvert_exporter": "python",
   "pygments_lexer": "ipython3",
   "version": "3.7.6"
  }
 },
 "nbformat": 4,
 "nbformat_minor": 4
}
