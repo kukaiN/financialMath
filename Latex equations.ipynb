{
 "cells": [
  {
   "cell_type": "code",
   "execution_count": 11,
   "metadata": {},
   "outputs": [
    {
     "data": {
      "text/latex": [
       "$\\displaystyle X(m,n)=\n",
       "\\begin{cases}\n",
       "x(n ),\\\\\n",
       "x(n-1)\\\\\n",
       "x(n-1)\n",
       "\\end{cases}$"
      ],
      "text/plain": [
       "<IPython.core.display.Math object>"
      ]
     },
     "metadata": {},
     "output_type": "display_data"
    },
    {
     "data": {
      "text/latex": [
       "$\\displaystyle \\alpha, \\beta, \\gamma, \\Gamma, \\pi, \\Pi, \\phi, \\varphi, \\mu, \\Phi $"
      ],
      "text/plain": [
       "<IPython.core.display.Math object>"
      ]
     },
     "metadata": {},
     "output_type": "display_data"
    },
    {
     "data": {
      "text/latex": [
       "$\\displaystyle \\cos (2\\theta) = \\cos^2 \\theta - \\sin^2 \\theta, \\dots$"
      ],
      "text/plain": [
       "<IPython.core.display.Math object>"
      ]
     },
     "metadata": {},
     "output_type": "display_data"
    },
    {
     "name": "stdout",
     "output_type": "stream",
     "text": [
      "\n"
     ]
    },
    {
     "data": {
      "text/latex": [
       "$\\displaystyle \\lim\\limits_{x \\to \\infty} \\exp(-x) = 0$"
      ],
      "text/plain": [
       "<IPython.core.display.Math object>"
      ]
     },
     "metadata": {},
     "output_type": "display_data"
    },
    {
     "data": {
      "text/latex": [
       "$\\displaystyle k_{n+1} = n^{201} + k_n^2 - k_{n-1}$"
      ],
      "text/plain": [
       "<IPython.core.display.Math object>"
      ]
     },
     "metadata": {},
     "output_type": "display_data"
    },
    {
     "data": {
      "text/latex": [
       "$\\displaystyle \\frac{n!}{k!(n-k)!} = \\binom{n}{k}$"
      ],
      "text/plain": [
       "<IPython.core.display.Math object>"
      ]
     },
     "metadata": {},
     "output_type": "display_data"
    },
    {
     "name": "stdout",
     "output_type": "stream",
     "text": [
      "\n"
     ]
    },
    {
     "data": {
      "text/latex": [
       "$\\displaystyle \\frac{\\frac{1}{x}+\\frac{1}{y}}{y-z}$"
      ],
      "text/plain": [
       "<IPython.core.display.Math object>"
      ]
     },
     "metadata": {},
     "output_type": "display_data"
    },
    {
     "data": {
      "text/latex": [
       "$\\displaystyle \\sum_{i=0}^{n}$"
      ],
      "text/plain": [
       "<IPython.core.display.Math object>"
      ]
     },
     "metadata": {},
     "output_type": "display_data"
    },
    {
     "data": {
      "text/latex": [
       "$\\displaystyle \n",
       "( a ), [ b ], \\{ c \\}, | d |, \\| e \\|,\n",
       "\\langle f \\rangle, \\lfloor g \\rfloor,\n",
       "\\lceil h \\rceil, \\ulcorner i \\urcorner,\n",
       "/ j \\backslash$"
      ],
      "text/plain": [
       "<IPython.core.display.Math object>"
      ]
     },
     "metadata": {},
     "output_type": "display_data"
    },
    {
     "data": {
      "text/latex": [
       "$\\displaystyle \\begin{pmatrix} a & b \\\\ c & d \\end{pmatrix}\n",
       "\n",
       "$"
      ],
      "text/plain": [
       "<IPython.core.display.Math object>"
      ]
     },
     "metadata": {},
     "output_type": "display_data"
    },
    {
     "data": {
      "text/latex": [
       "$\\displaystyle \\begin{bmatrix} 1 & 2 & 1 \\\\ 3 & 0 & 1 \\\\ 0 & 2 & 4 \\end{bmatrix}$"
      ],
      "text/plain": [
       "<IPython.core.display.Math object>"
      ]
     },
     "metadata": {},
     "output_type": "display_data"
    }
   ],
   "source": [
    "from IPython.display import display, Math, Latex\n",
    "\n",
    "\n",
    "display(Math(r\"\"\"X(m,n)=\n",
    "\\begin{cases}\n",
    "x(n ),\\\\\n",
    "x(n-1)\\\\\n",
    "x(n-1)\n",
    "\\end{cases}\"\"\"))\n",
    "\n",
    "display(Math(r\"\\alpha, \\beta, \\gamma, \\Gamma, \\pi, \\Pi, \\phi, \\varphi, \\mu, \\Phi \"))\n",
    "display(Math(r\"\\cos (2\\theta) = \\cos^2 \\theta - \\sin^2 \\theta, \\dots\"))\n",
    "print(\"\")\n",
    "display(Math(r\"\\lim\\limits_{x \\to \\infty} \\exp(-x) = 0\"))\n",
    "display(Math(r\"k_{n+1} = n^{201} + k_n^2 - k_{n-1}\"))\n",
    "display(Math(r\"\\frac{n!}{k!(n-k)!} = \\binom{n}{k}\"))\n",
    "print(\"\")\n",
    "display(Math(r\"\\frac{\\frac{1}{x}+\\frac{1}{y}}{y-z}\"))\n",
    "\n",
    "\n",
    "\n",
    "display(Math(r\"\\sum_{i=0}^{n}\"))\n",
    "display(Math(r\"\"\"\n",
    "( a ), [ b ], \\{ c \\}, | d |, \\| e \\|,\n",
    "\\langle f \\rangle, \\lfloor g \\rfloor,\n",
    "\\lceil h \\rceil, \\ulcorner i \\urcorner,\n",
    "/ j \\backslash\"\"\"))\n",
    "display(Math(r\"\"\"\\begin{pmatrix} a & b \\\\ c & d \\end{pmatrix}\n",
    "\n",
    "\"\"\"))\n",
    "display(Math(r\"\\begin{bmatrix} 1 & 2 & 1 \\\\ 3 & 0 & 1 \\\\ 0 & 2 & 4 \\end{bmatrix}\"))\n",
    "\n"
   ]
  },
  {
   "cell_type": "code",
   "execution_count": null,
   "metadata": {},
   "outputs": [],
   "source": []
  }
 ],
 "metadata": {
  "kernelspec": {
   "display_name": "Python 3",
   "language": "python",
   "name": "python3"
  },
  "language_info": {
   "codemirror_mode": {
    "name": "ipython",
    "version": 3
   },
   "file_extension": ".py",
   "mimetype": "text/x-python",
   "name": "python",
   "nbconvert_exporter": "python",
   "pygments_lexer": "ipython3",
   "version": "3.7.6"
  }
 },
 "nbformat": 4,
 "nbformat_minor": 4
}
