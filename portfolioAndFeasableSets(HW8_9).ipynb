{
 "cells": [
  {
   "cell_type": "markdown",
   "metadata": {},
   "source": [
    "# Run this first cell to define all the functions:"
   ]
  },
  {
   "cell_type": "code",
   "execution_count": 2,
   "metadata": {},
   "outputs": [],
   "source": [
    "import financialmath as FM"
   ]
  },
  {
   "cell_type": "markdown",
   "metadata": {},
   "source": [
    "# 2 securities (K1 and K2), 3 scenarios ==> find everthing else"
   ]
  },
  {
   "cell_type": "code",
   "execution_count": 4,
   "metadata": {},
   "outputs": [
    {
     "name": "stdout",
     "output_type": "stream",
     "text": [
      "\n",
      "feasable set without short selling, -1 < p12 < sigma1/sigma2\n"
     ]
    },
    {
     "data": {
      "text/html": [
       "<div>\n",
       "<style scoped>\n",
       "    .dataframe tbody tr th:only-of-type {\n",
       "        vertical-align: middle;\n",
       "    }\n",
       "\n",
       "    .dataframe tbody tr th {\n",
       "        vertical-align: top;\n",
       "    }\n",
       "\n",
       "    .dataframe thead th {\n",
       "        text-align: right;\n",
       "    }\n",
       "</style>\n",
       "<table border=\"1\" class=\"dataframe\">\n",
       "  <thead>\n",
       "    <tr style=\"text-align: right;\">\n",
       "      <th></th>\n",
       "      <th>Variable</th>\n",
       "      <th>Formula</th>\n",
       "      <th>Value</th>\n",
       "    </tr>\n",
       "  </thead>\n",
       "  <tbody>\n",
       "    <tr>\n",
       "      <th>0</th>\n",
       "      <td>E[K1]</td>\n",
       "      <td>E[K1]</td>\n",
       "      <td>0.02</td>\n",
       "    </tr>\n",
       "    <tr>\n",
       "      <th>1</th>\n",
       "      <td>E[K2]</td>\n",
       "      <td>E[K2]</td>\n",
       "      <td>0.03</td>\n",
       "    </tr>\n",
       "    <tr>\n",
       "      <th>2</th>\n",
       "      <td>E[K1^2]</td>\n",
       "      <td>E[K1^2]</td>\n",
       "      <td>0.006</td>\n",
       "    </tr>\n",
       "    <tr>\n",
       "      <th>3</th>\n",
       "      <td>E[K2^2]</td>\n",
       "      <td>E[K2^2]</td>\n",
       "      <td>0.0055</td>\n",
       "    </tr>\n",
       "    <tr>\n",
       "      <th>4</th>\n",
       "      <td>Var(K1)</td>\n",
       "      <td>E(K1^2)- E[K1]^2</td>\n",
       "      <td>0.0056</td>\n",
       "    </tr>\n",
       "    <tr>\n",
       "      <th>5</th>\n",
       "      <td>Var(K2)</td>\n",
       "      <td>E(K2^2)- E[K2]^2</td>\n",
       "      <td>0.0046</td>\n",
       "    </tr>\n",
       "    <tr>\n",
       "      <th>6</th>\n",
       "      <td>StdDev(K1)</td>\n",
       "      <td>sqrt(Var(K1))</td>\n",
       "      <td>0.0748331</td>\n",
       "    </tr>\n",
       "    <tr>\n",
       "      <th>7</th>\n",
       "      <td>StdDev(K2)</td>\n",
       "      <td>sqrt(Var(K2))</td>\n",
       "      <td>0.0678233</td>\n",
       "    </tr>\n",
       "    <tr>\n",
       "      <th>8</th>\n",
       "      <td>E[K1*K2]</td>\n",
       "      <td>E[K1*K2]</td>\n",
       "      <td>-0.003</td>\n",
       "    </tr>\n",
       "    <tr>\n",
       "      <th>9</th>\n",
       "      <td>Cov(K1, K2)</td>\n",
       "      <td>Cov(K1, K2)</td>\n",
       "      <td>-0.0036</td>\n",
       "    </tr>\n",
       "    <tr>\n",
       "      <th>10</th>\n",
       "      <td>p12</td>\n",
       "      <td>p12</td>\n",
       "      <td>-0.709299</td>\n",
       "    </tr>\n",
       "    <tr>\n",
       "      <th>11</th>\n",
       "      <td>w1</td>\n",
       "      <td>w1</td>\n",
       "      <td>0.471264</td>\n",
       "    </tr>\n",
       "    <tr>\n",
       "      <th>12</th>\n",
       "      <td>w2</td>\n",
       "      <td>w2</td>\n",
       "      <td>0.528736</td>\n",
       "    </tr>\n",
       "    <tr>\n",
       "      <th>13</th>\n",
       "      <td>stdDev(K1)/stdDev(K2)</td>\n",
       "      <td>stdDev(K1)/stdDev(K2)</td>\n",
       "      <td>0.891304</td>\n",
       "    </tr>\n",
       "    <tr>\n",
       "      <th>14</th>\n",
       "      <td>stdDev(K2)/stdDev(K1)**</td>\n",
       "      <td>stdDev(K2)/stdDev(K1)</td>\n",
       "      <td>1.12195</td>\n",
       "    </tr>\n",
       "  </tbody>\n",
       "</table>\n",
       "</div>"
      ],
      "text/plain": [
       "                    Variable                Formula      Value\n",
       "0                      E[K1]                  E[K1]       0.02\n",
       "1                      E[K2]                  E[K2]       0.03\n",
       "2                    E[K1^2]                E[K1^2]      0.006\n",
       "3                    E[K2^2]                E[K2^2]     0.0055\n",
       "4                    Var(K1)       E(K1^2)- E[K1]^2     0.0056\n",
       "5                    Var(K2)       E(K2^2)- E[K2]^2     0.0046\n",
       "6                 StdDev(K1)          sqrt(Var(K1))  0.0748331\n",
       "7                 StdDev(K2)          sqrt(Var(K2))  0.0678233\n",
       "8                   E[K1*K2]               E[K1*K2]     -0.003\n",
       "9                Cov(K1, K2)            Cov(K1, K2)    -0.0036\n",
       "10                       p12                    p12  -0.709299\n",
       "11                        w1                     w1   0.471264\n",
       "12                        w2                     w2   0.528736\n",
       "13     stdDev(K1)/stdDev(K2)  stdDev(K1)/stdDev(K2)   0.891304\n",
       "14  stdDev(K2)/stdDev(K1)**   stdDev(K2)/stdDev(K1)    1.12195"
      ]
     },
     "metadata": {},
     "output_type": "display_data"
    },
    {
     "name": "stdout",
     "output_type": "stream",
     "text": [
      "**if std(K1)>std(K2)\n"
     ]
    },
    {
     "data": {
      "text/plain": [
       "<financialmath.two_securities at 0x1d692435788>"
      ]
     },
     "execution_count": 4,
     "metadata": {},
     "output_type": "execute_result"
    }
   ],
   "source": [
    "p = [\"0.2\", \"0.4\", \"0.4\"]\n",
    "k1 = [\"-0.1\", \"0\",\"0.1\"]\n",
    "k2 = [\"0.05\", \"0.1\", \"-0.05\"]\n",
    "\n",
    "FM.two_securities(p, k1, k2)"
   ]
  },
  {
   "cell_type": "markdown",
   "metadata": {},
   "source": [
    "# HW8 question 1"
   ]
  },
  {
   "cell_type": "code",
   "execution_count": null,
   "metadata": {},
   "outputs": [],
   "source": [
    "# w1, w2, ...., wm\n",
    "weights = [0.3, 0.1, 0.6]\n",
    "means = [0.08, 0.1, 0.06]\n",
    "stdDevs = [0.15, 0.05, 0.12]\n",
    "\n",
    "# each entry represent correlation of (i, j) ans stored in the form [(i, j), value]\n",
    "correlation = [\n",
    "    [[1, 2], 0.3],\n",
    "    [[2, 3], 0],\n",
    "    [[1, 3], -0.2],\n",
    "]\n",
    "\n",
    "\n",
    "mu_V = meanV(weights, means) \n",
    "cMatrix = makeCMatrix(correlation, stdDevs)\n",
    "wCwT = find_wCwT(weights, cMatrix)\n",
    "np.set_printoptions(suppress=True)\n",
    "print(\"Expected value of portfolio is:\", mu_V)\n",
    "print(\"Correlation matrix is:\")\n",
    "print(np.array(cMatrix))\n",
    "print(\"w*C*wT is: \", wCwT)\n",
    "print(\"stdDev of portfolio is\", math.sqrt(wCwT))\n",
    "print(\"\\n\", \"*\"* 20, \"\\n\")\n",
    "cInverse = np.linalg.inv(cMatrix)\n",
    "print(\"here is the inverse of C:\")\n",
    "print(cInverse)\n",
    "m = np.array(means)\n",
    "u = np.array([1 for _ in means])\n",
    "print(\"m is:\", m)\n",
    "print(\"u is:\", u)\n",
    "print(\"calculating M\")\n",
    "Mmatrix = makeM(m, cInverse, u)\n",
    "print(\"here is M:\")\n",
    "print(Mmatrix)\n",
    "print(\"here is M inverse:\")\n",
    "MmatrixInv = np.linalg.inv(Mmatrix)\n",
    "print(MmatrixInv)"
   ]
  },
  {
   "cell_type": "markdown",
   "metadata": {},
   "source": [
    "# HW 7 Part 2:"
   ]
  },
  {
   "cell_type": "code",
   "execution_count": null,
   "metadata": {},
   "outputs": [],
   "source": [
    "m = [0.2, 0.13, 0.17]\n",
    "stdDevs = [0.25, 0.28, 0.20]\n",
    "correlation= [\n",
    "    [[1,2], 0.25],\n",
    "    [[2,3], 0],\n",
    "    [[3,1], 0.15]]\n",
    "\n",
    "find_W_MVP(m, stdDevs, correlation)"
   ]
  },
  {
   "cell_type": "markdown",
   "metadata": {},
   "source": [
    "# HW 8, Problem 3:"
   ]
  },
  {
   "cell_type": "code",
   "execution_count": 3,
   "metadata": {},
   "outputs": [
    {
     "name": "stdout",
     "output_type": "stream",
     "text": [
      "m is: [0.2 0.1 0.2] \n",
      "u is: [1 1 1]\n",
      "\n",
      "C matrix is:\n",
      "[[0.0625   0.0125   0.009375]\n",
      " [0.0125   0.04     0.0025  ]\n",
      " [0.009375 0.0025   0.0625  ]]\n",
      "\n",
      "here is the inverse of C:\n",
      " [[17.41882674 -5.29331514 -2.40109141]\n",
      " [-5.29331514 26.67121419 -0.2728513 ]\n",
      " [-2.40109141 -0.2728513  16.37107776]]\n",
      "\n",
      "calculating M:\n",
      "Intermediate Calculations:\n",
      "M*C^-1 =  [2.47421555 1.55388813 2.76671214]\n",
      "u*C^-1 =  [ 9.72442019 21.10504775 13.69713506]\n",
      "\n",
      "here is M:\n",
      "[[ 1.20357435  6.79481583]\n",
      " [ 6.79481583 44.526603  ]]\n",
      "\n",
      "here is M inverse:\n",
      "[[ 5.99963235 -0.91555147]\n",
      " [-0.91555147  0.16217279]]\n",
      "\n",
      "The weight in minimum variance portfolio is:\n",
      "[0.21839574 0.47398738 0.30761689]\n",
      "\n",
      "The Expected return is:\n",
      "0.15260126233225074\n",
      "\n",
      "Variance is:\n",
      "intermediate calculation: w*C =  [0.02245848 0.02245848 0.02245848]\n",
      "wCwT = Varinace = \n",
      "0.022458483975733808\n",
      "\n",
      "The Std.Dev of the portfolio is:\n",
      "0.1498615493571777\n"
     ]
    }
   ],
   "source": [
    "m = [0.2, 0.1, 0.2]\n",
    "stdDevs = [0.25, 0.2, 0.25]\n",
    "correlation= [\n",
    "    [[1,2], 0.25],\n",
    "    [[2,3], 0.05],\n",
    "    [[3,1], 0.15]]\n",
    "\n",
    "FM.find_W_MVP(m, stdDevs, correlation)"
   ]
  },
  {
   "cell_type": "markdown",
   "metadata": {},
   "source": [
    "# HW 9 Problem 1"
   ]
  },
  {
   "cell_type": "code",
   "execution_count": null,
   "metadata": {},
   "outputs": [],
   "source": [
    "mu = [0.2, 0.15, 0.17]\n",
    "stdevs = [0.25, 0.28, 0.2]\n",
    "corr = [\n",
    "    [[1, 2],0.25],\n",
    "    [[2,3], 0.0],\n",
    "    [[1, 3], 0.15]\n",
    "    ]\n",
    "muV = 0.2\n",
    "\n",
    "x = portfolio_MVP(mu, stdevs, corr)\n",
    "#x.W_MVP_Given_Ev(muV)"
   ]
  },
  {
   "cell_type": "markdown",
   "metadata": {},
   "source": [
    "# HW 9 Problem 2:"
   ]
  },
  {
   "cell_type": "code",
   "execution_count": null,
   "metadata": {},
   "outputs": [],
   "source": [
    "mu = [0.16, 0.13, 0.13]\n",
    "stdevs = [0.25, 0.28, 0.2]\n",
    "corr = [\n",
    "    [[1, 2],0.3],\n",
    "    [[2,3], 0.0],\n",
    "    [[1, 3], 0.15]\n",
    "    ]\n",
    "\n",
    "x = portfolio_MVP(mu, stdevs, corr)\n",
    "x.calculate_ab()\n",
    "x.calculate_MVL_slope(2, 3)"
   ]
  },
  {
   "cell_type": "markdown",
   "metadata": {},
   "source": [
    "# HW 9 part 3:"
   ]
  },
  {
   "cell_type": "code",
   "execution_count": 7,
   "metadata": {},
   "outputs": [
    {
     "name": "stdout",
     "output_type": "stream",
     "text": [
      "m is: [0.08 0.1  0.06] \n",
      "u is: [1 1 1]\n",
      "\n",
      "C matrix is:\n",
      "[[ 0.0225   0.00225 -0.0036 ]\n",
      " [ 0.00225  0.0025   0.     ]\n",
      " [-0.0036   0.       0.0144 ]]\n",
      "\n",
      "here is the inverse of C:\n",
      " [[ 51.08556833 -45.97701149  12.77139208]\n",
      " [-45.97701149 441.37931034 -11.49425287]\n",
      " [ 12.77139208 -11.49425287  72.63729246]]\n",
      "\n",
      "calculating M:\n",
      "Intermediate Calculations:\n",
      "M*C^-1 =  [ 0.25542784 39.77011494  4.23052363]\n",
      "u*C^-1 =  [ 17.87994891 383.90804598  73.91443167]\n",
      "\n",
      "here is M:\n",
      "[[  4.25127714  44.25606641]\n",
      " [ 44.25606641 475.70242656]]\n",
      "\n",
      "here is M inverse:\n",
      "[[ 7.46276714 -0.69428428]\n",
      " [-0.69428428  0.06669357]]\n",
      "\n",
      "The weight in minimum variance portfolio is:\n",
      "[0.03758642 0.80703403 0.15537956]\n",
      "\n",
      "The Expected return of the MVP is:\n",
      "0.0930330894690919\n",
      "\n",
      "Variance is:\n",
      "intermediate calculation: w*C =  [0.00210215 0.00210215 0.00210215]\n",
      "wCwT = Varinace = \n",
      "0.0021021545070138946\n",
      "\n",
      "The Std.Dev of the portfolio is:\n",
      "0.045849258521964066\n",
      "********************\n",
      "\n",
      "weights in a market portfolio = ((m-R*u) * C^-1)/((m-R*u)* C^-1 * uT)\n",
      "intermediate steps: m-R*u = [0.03 0.05 0.01]\n",
      "(m-R*u)* C^-1 =  [-0.6385696  20.57471264  0.53480204]\n",
      "\n",
      "market portfolio weights = [-0.03119395  1.00506902  0.02612493]\n",
      "expected value is 0.09957888169695078\n",
      "\n",
      "Variance is:\n",
      "intermediate calculation: w*C =  [0.00146549 0.00244249 0.0004885 ]\n",
      "wCwT = Varinace =  0.0024219146451664956\n",
      "\n",
      "The Std.Dev of the portfolio is:\n",
      "0.04921295200621982\n"
     ]
    }
   ],
   "source": [
    "mu = [0.08, 0.1, 0.06]\n",
    "stdevs = [0.15, 0.05, 0.12]\n",
    "corr = [\n",
    "    [[1, 2],0.3],\n",
    "    [[2,3], 0.0],\n",
    "    [[1, 3], -0.2]\n",
    "    ]\n",
    "risk_free_rate = 0.05\n",
    "x = FM.portfolio_MVP(mu, stdevs, corr)\n",
    "x.market_portfolio(risk_free_rate)\n"
   ]
  },
  {
   "cell_type": "code",
   "execution_count": null,
   "metadata": {},
   "outputs": [],
   "source": []
  }
 ],
 "metadata": {
  "kernelspec": {
   "display_name": "Python 3",
   "language": "python",
   "name": "python3"
  },
  "language_info": {
   "codemirror_mode": {
    "name": "ipython",
    "version": 3
   },
   "file_extension": ".py",
   "mimetype": "text/x-python",
   "name": "python",
   "nbconvert_exporter": "python",
   "pygments_lexer": "ipython3",
   "version": "3.7.6"
  }
 },
 "nbformat": 4,
 "nbformat_minor": 4
}
