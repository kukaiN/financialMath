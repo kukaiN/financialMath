{
 "cells": [
  {
   "cell_type": "code",
   "execution_count": 1,
   "metadata": {},
   "outputs": [],
   "source": [
    "import financialmath as FM"
   ]
  },
  {
   "cell_type": "markdown",
   "metadata": {},
   "source": [
    "# HW4, Problem 1"
   ]
  },
  {
   "cell_type": "code",
   "execution_count": null,
   "metadata": {},
   "outputs": [],
   "source": []
  },
  {
   "cell_type": "markdown",
   "metadata": {},
   "source": [
    "# HW 4, problem 2:"
   ]
  },
  {
   "cell_type": "code",
   "execution_count": null,
   "metadata": {},
   "outputs": [],
   "source": [
    "p = [0.3, 0.7]\n",
    "# returns\n",
    "security = [\n",
    "    [0.12, 0.12], # k1\n",
    "    [0.11, 0.15], # k2\n",
    "    [0.02, 0.12] # k3 \n",
    "]\n",
    "x = FM.multiple_security(p, security)\n",
    "x.computeRisks()\n",
    "print(x.Vars)"
   ]
  },
  {
   "cell_type": "markdown",
   "metadata": {},
   "source": [
    "# HW 4, problem 3:"
   ]
  },
  {
   "cell_type": "code",
   "execution_count": null,
   "metadata": {},
   "outputs": [],
   "source": [
    "p = [1/4, 3/4]\n",
    "K1 = [-0.02, 0.06]\n",
    "FM.Variance_classic(p, K1)"
   ]
  },
  {
   "cell_type": "code",
   "execution_count": null,
   "metadata": {},
   "outputs": [],
   "source": [
    "p1 = [0.25, 0.75]\n",
    "K2 = [] # fillin the rest\n",
    "FM.Variance_classic(p1, K2)"
   ]
  },
  {
   "cell_type": "markdown",
   "metadata": {},
   "source": [
    "# HW 4, problem 4:"
   ]
  },
  {
   "cell_type": "code",
   "execution_count": null,
   "metadata": {},
   "outputs": [],
   "source": []
  },
  {
   "cell_type": "markdown",
   "metadata": {},
   "source": [
    "# HW 4, problem 5:"
   ]
  },
  {
   "cell_type": "code",
   "execution_count": null,
   "metadata": {},
   "outputs": [],
   "source": [
    "p = [0.3, 0.7]\n",
    "K1 = [0.11, -0.11]\n",
    "K2 = [-0.05, 0.06]\n",
    "FM.two_securities(p, K1, K2)"
   ]
  },
  {
   "cell_type": "markdown",
   "metadata": {},
   "source": [
    "# HW5 Question 1:"
   ]
  },
  {
   "cell_type": "code",
   "execution_count": null,
   "metadata": {},
   "outputs": [],
   "source": [
    "S0 = 30 \n",
    "years = 2000 - 1626\n",
    "rate = 0.04\n",
    "\n",
    "x = S0*FM.continuousCompounding(rate, year)\n",
    "y = S0*FM.discreteCompounding(rate, years)"
   ]
  },
  {
   "cell_type": "markdown",
   "metadata": {},
   "source": [
    "# HW5 Question 2:"
   ]
  },
  {
   "cell_type": "code",
   "execution_count": null,
   "metadata": {},
   "outputs": [],
   "source": [
    "years = 1\n",
    "S0 = 120\n",
    "rate = 0.08\n",
    "x = S0*FM.discreteCompounding(rate, years, 12)\n",
    "y = S0*FM.continuousCompounding(rate, years)\n",
    "\n",
    "dif_threshold = 0.01\n",
    "periods = 1\n",
    "x = S0*FM.discreteCompounding(rate, years, periods)\n",
    "while(abs(x-y) > dif_threshold):\n",
    "    x = S0*FM.discreteCompounding(rate, years, periods)\n",
    "    periods+=1\n",
    "periods-=1\n",
    "print(periods-1, abs(S0*FM.discreteCompounding(rate, years, periods-1)-y))\n",
    "print(periods, abs(x-y))\n"
   ]
  },
  {
   "cell_type": "markdown",
   "metadata": {},
   "source": [
    "# HW5 Question 3:"
   ]
  },
  {
   "cell_type": "code",
   "execution_count": null,
   "metadata": {},
   "outputs": [],
   "source": [
    "PV = 1000000\n",
    "years = 20\n",
    "rate = 0.07\n",
    "print(PV*FM.continuousCompounding(rate, years))"
   ]
  },
  {
   "cell_type": "markdown",
   "metadata": {},
   "source": [
    "# HW5 Question 4:"
   ]
  },
  {
   "cell_type": "code",
   "execution_count": null,
   "metadata": {},
   "outputs": [],
   "source": [
    "PV = 1100\n",
    "FV = 1200\n",
    "year = 0.5\n",
    "print(\"ln(PV/FV) / time\")\n",
    "print(FM.findContinuousRate(PV, FV, year))"
   ]
  },
  {
   "cell_type": "markdown",
   "metadata": {},
   "source": [
    "# HW5 Question 5:"
   ]
  },
  {
   "cell_type": "code",
   "execution_count": null,
   "metadata": {},
   "outputs": [],
   "source": [
    "year = 3/12\n",
    "returnRate = 0.05\n",
    "print(FM.findLogReturnRate(returnRate, year))"
   ]
  },
  {
   "cell_type": "code",
   "execution_count": null,
   "metadata": {},
   "outputs": [],
   "source": []
  },
  {
   "cell_type": "code",
   "execution_count": null,
   "metadata": {},
   "outputs": [],
   "source": []
  },
  {
   "cell_type": "code",
   "execution_count": null,
   "metadata": {},
   "outputs": [],
   "source": [
    "# HW5 Question 7:"
   ]
  },
  {
   "cell_type": "code",
   "execution_count": null,
   "metadata": {},
   "outputs": [],
   "source": []
  },
  {
   "cell_type": "markdown",
   "metadata": {},
   "source": [
    "# HW5 Question 8:"
   ]
  },
  {
   "cell_type": "code",
   "execution_count": null,
   "metadata": {},
   "outputs": [],
   "source": [
    "p = [0.1, 0.3, 0.6]\n",
    "K1 = [-0.15, 0.05, 0.1]\n",
    "K2 = [0.1, -0.05, 0.15]\n",
    "Ev =  0.08\n",
    "\n",
    "\n",
    "x = FM.two_securities(p, K1, K2)\n",
    "x.find_W_given_E(Ev)"
   ]
  },
  {
   "cell_type": "markdown",
   "metadata": {},
   "source": [
    "# HW5 Question 9:"
   ]
  },
  {
   "cell_type": "code",
   "execution_count": 3,
   "metadata": {},
   "outputs": [
    {
     "name": "stdout",
     "output_type": "stream",
     "text": [
      "\n",
      "feasable set without short selling\n"
     ]
    },
    {
     "data": {
      "text/html": [
       "<div>\n",
       "<style scoped>\n",
       "    .dataframe tbody tr th:only-of-type {\n",
       "        vertical-align: middle;\n",
       "    }\n",
       "\n",
       "    .dataframe tbody tr th {\n",
       "        vertical-align: top;\n",
       "    }\n",
       "\n",
       "    .dataframe thead th {\n",
       "        text-align: right;\n",
       "    }\n",
       "</style>\n",
       "<table border=\"1\" class=\"dataframe\">\n",
       "  <thead>\n",
       "    <tr style=\"text-align: right;\">\n",
       "      <th></th>\n",
       "      <th>Variable</th>\n",
       "      <th>Formula</th>\n",
       "      <th>Value</th>\n",
       "    </tr>\n",
       "  </thead>\n",
       "  <tbody>\n",
       "    <tr>\n",
       "      <th>0</th>\n",
       "      <td>E[K1]</td>\n",
       "      <td>E[K1]</td>\n",
       "      <td>0.06</td>\n",
       "    </tr>\n",
       "    <tr>\n",
       "      <th>1</th>\n",
       "      <td>E[K2]</td>\n",
       "      <td>E[K2]</td>\n",
       "      <td>0.11</td>\n",
       "    </tr>\n",
       "    <tr>\n",
       "      <th>2</th>\n",
       "      <td>E[K1^2]</td>\n",
       "      <td>E[K1^2]</td>\n",
       "      <td>0.018</td>\n",
       "    </tr>\n",
       "    <tr>\n",
       "      <th>3</th>\n",
       "      <td>E[K2^2]</td>\n",
       "      <td>E[K2^2]</td>\n",
       "      <td>0.0375</td>\n",
       "    </tr>\n",
       "    <tr>\n",
       "      <th>4</th>\n",
       "      <td>Var(K1)</td>\n",
       "      <td>E(K1^2)- E[K1]^2</td>\n",
       "      <td>0.0144</td>\n",
       "    </tr>\n",
       "    <tr>\n",
       "      <th>5</th>\n",
       "      <td>Var(K2)</td>\n",
       "      <td>E(K2^2)- E[K2]^2</td>\n",
       "      <td>0.0254</td>\n",
       "    </tr>\n",
       "    <tr>\n",
       "      <th>6</th>\n",
       "      <td>StdDev(K1)</td>\n",
       "      <td>sqrt(Var(K1))</td>\n",
       "      <td>0.12</td>\n",
       "    </tr>\n",
       "    <tr>\n",
       "      <th>7</th>\n",
       "      <td>StdDev(K2)</td>\n",
       "      <td>sqrt(Var(K2))</td>\n",
       "      <td>0.159374</td>\n",
       "    </tr>\n",
       "    <tr>\n",
       "      <th>8</th>\n",
       "      <td>E[K1*K2]</td>\n",
       "      <td>E[K1*K2]</td>\n",
       "      <td>-0.005</td>\n",
       "    </tr>\n",
       "    <tr>\n",
       "      <th>9</th>\n",
       "      <td>Cov(K1, K2)</td>\n",
       "      <td>Cov(K1, K2)</td>\n",
       "      <td>-0.0116</td>\n",
       "    </tr>\n",
       "    <tr>\n",
       "      <th>10</th>\n",
       "      <td>p12</td>\n",
       "      <td>p12</td>\n",
       "      <td>-0.606541</td>\n",
       "    </tr>\n",
       "    <tr>\n",
       "      <th>11</th>\n",
       "      <td>w1</td>\n",
       "      <td>w1</td>\n",
       "      <td>0.587302</td>\n",
       "    </tr>\n",
       "    <tr>\n",
       "      <th>12</th>\n",
       "      <td>w2</td>\n",
       "      <td>w2</td>\n",
       "      <td>0.412698</td>\n",
       "    </tr>\n",
       "    <tr>\n",
       "      <th>13</th>\n",
       "      <td>stdDev(K1)/stdDev(K2)</td>\n",
       "      <td>stdDev(K1)/stdDev(K2)</td>\n",
       "      <td>1.42308</td>\n",
       "    </tr>\n",
       "    <tr>\n",
       "      <th>14</th>\n",
       "      <td>stdDev(K2)/stdDev(K1)**</td>\n",
       "      <td>stdDev(K2)/stdDev(K1)</td>\n",
       "      <td>0.702703</td>\n",
       "    </tr>\n",
       "  </tbody>\n",
       "</table>\n",
       "</div>"
      ],
      "text/plain": [
       "                    Variable                Formula     Value\n",
       "0                      E[K1]                  E[K1]      0.06\n",
       "1                      E[K2]                  E[K2]      0.11\n",
       "2                    E[K1^2]                E[K1^2]     0.018\n",
       "3                    E[K2^2]                E[K2^2]    0.0375\n",
       "4                    Var(K1)       E(K1^2)- E[K1]^2    0.0144\n",
       "5                    Var(K2)       E(K2^2)- E[K2]^2    0.0254\n",
       "6                 StdDev(K1)          sqrt(Var(K1))      0.12\n",
       "7                 StdDev(K2)          sqrt(Var(K2))  0.159374\n",
       "8                   E[K1*K2]               E[K1*K2]    -0.005\n",
       "9                Cov(K1, K2)            Cov(K1, K2)   -0.0116\n",
       "10                       p12                    p12 -0.606541\n",
       "11                        w1                     w1  0.587302\n",
       "12                        w2                     w2  0.412698\n",
       "13     stdDev(K1)/stdDev(K2)  stdDev(K1)/stdDev(K2)   1.42308\n",
       "14  stdDev(K2)/stdDev(K1)**   stdDev(K2)/stdDev(K1)  0.702703"
      ]
     },
     "metadata": {},
     "output_type": "display_data"
    },
    {
     "name": "stdout",
     "output_type": "stream",
     "text": [
      "**if std(K1)>std(K2)\n",
      "convert w1 to (1- w2)\n",
      "w1 is -7.800000000000001, w2 is 8.8\n",
      "Var(Kv) = (w1*sigma1)^2 + (w2*sigma2)^2 + 2* w1 * w2 (E[k1*K2] - E[K1]*E[K2]\n",
      "Var(Kv) = 4.435520000000001\n",
      "StdDev(Kv) = 2.1060674253214215\n"
     ]
    },
    {
     "data": {
      "text/plain": [
       "(4.435520000000001, 2.1060674253214215)"
      ]
     },
     "execution_count": 3,
     "metadata": {},
     "output_type": "execute_result"
    }
   ],
   "source": [
    "p = [0.2, 0.4, 0.4]\n",
    "K1 = [-0.1, 0, 0.2]\n",
    "K2 = [0.05, 0.3, -0.05]\n",
    "Ev = 0.5\n",
    "\n",
    "\n",
    "x = FM.two_securities(p, K1, K2)\n",
    "weights = x.find_W_given_E(Ev)\n",
    "x.portfolioRisk_given_W(weights)"
   ]
  },
  {
   "cell_type": "code",
   "execution_count": null,
   "metadata": {},
   "outputs": [],
   "source": [
    "# HW 6 Question 1:"
   ]
  },
  {
   "cell_type": "code",
   "execution_count": 4,
   "metadata": {},
   "outputs": [
    {
     "name": "stdout",
     "output_type": "stream",
     "text": [
      "\n",
      "feasable set without short selling\n"
     ]
    },
    {
     "data": {
      "text/html": [
       "<div>\n",
       "<style scoped>\n",
       "    .dataframe tbody tr th:only-of-type {\n",
       "        vertical-align: middle;\n",
       "    }\n",
       "\n",
       "    .dataframe tbody tr th {\n",
       "        vertical-align: top;\n",
       "    }\n",
       "\n",
       "    .dataframe thead th {\n",
       "        text-align: right;\n",
       "    }\n",
       "</style>\n",
       "<table border=\"1\" class=\"dataframe\">\n",
       "  <thead>\n",
       "    <tr style=\"text-align: right;\">\n",
       "      <th></th>\n",
       "      <th>Variable</th>\n",
       "      <th>Formula</th>\n",
       "      <th>Value</th>\n",
       "    </tr>\n",
       "  </thead>\n",
       "  <tbody>\n",
       "    <tr>\n",
       "      <th>0</th>\n",
       "      <td>E[K1]</td>\n",
       "      <td>E[K1]</td>\n",
       "      <td>0.1</td>\n",
       "    </tr>\n",
       "    <tr>\n",
       "      <th>1</th>\n",
       "      <td>E[K2]</td>\n",
       "      <td>E[K2]</td>\n",
       "      <td>0.11</td>\n",
       "    </tr>\n",
       "    <tr>\n",
       "      <th>2</th>\n",
       "      <td>E[K1^2]</td>\n",
       "      <td>E[K1^2]</td>\n",
       "      <td>0.038</td>\n",
       "    </tr>\n",
       "    <tr>\n",
       "      <th>3</th>\n",
       "      <td>E[K2^2]</td>\n",
       "      <td>E[K2^2]</td>\n",
       "      <td>0.0375</td>\n",
       "    </tr>\n",
       "    <tr>\n",
       "      <th>4</th>\n",
       "      <td>Var(K1)</td>\n",
       "      <td>E(K1^2)- E[K1]^2</td>\n",
       "      <td>0.028</td>\n",
       "    </tr>\n",
       "    <tr>\n",
       "      <th>5</th>\n",
       "      <td>Var(K2)</td>\n",
       "      <td>E(K2^2)- E[K2]^2</td>\n",
       "      <td>0.0254</td>\n",
       "    </tr>\n",
       "    <tr>\n",
       "      <th>6</th>\n",
       "      <td>StdDev(K1)</td>\n",
       "      <td>sqrt(Var(K1))</td>\n",
       "      <td>0.167332</td>\n",
       "    </tr>\n",
       "    <tr>\n",
       "      <th>7</th>\n",
       "      <td>StdDev(K2)</td>\n",
       "      <td>sqrt(Var(K2))</td>\n",
       "      <td>0.159374</td>\n",
       "    </tr>\n",
       "    <tr>\n",
       "      <th>8</th>\n",
       "      <td>E[K1*K2]</td>\n",
       "      <td>E[K1*K2]</td>\n",
       "      <td>-0.007</td>\n",
       "    </tr>\n",
       "    <tr>\n",
       "      <th>9</th>\n",
       "      <td>Cov(K1, K2)</td>\n",
       "      <td>Cov(K1, K2)</td>\n",
       "      <td>-0.018</td>\n",
       "    </tr>\n",
       "    <tr>\n",
       "      <th>10</th>\n",
       "      <td>p12</td>\n",
       "      <td>p12</td>\n",
       "      <td>-0.674958</td>\n",
       "    </tr>\n",
       "    <tr>\n",
       "      <th>11</th>\n",
       "      <td>w1</td>\n",
       "      <td>w1</td>\n",
       "      <td>0.485459</td>\n",
       "    </tr>\n",
       "    <tr>\n",
       "      <th>12</th>\n",
       "      <td>w2</td>\n",
       "      <td>w2</td>\n",
       "      <td>0.514541</td>\n",
       "    </tr>\n",
       "    <tr>\n",
       "      <th>13</th>\n",
       "      <td>stdDev(K1)/stdDev(K2)</td>\n",
       "      <td>stdDev(K1)/stdDev(K2)</td>\n",
       "      <td>0.943478</td>\n",
       "    </tr>\n",
       "    <tr>\n",
       "      <th>14</th>\n",
       "      <td>stdDev(K2)/stdDev(K1)**</td>\n",
       "      <td>stdDev(K2)/stdDev(K1)</td>\n",
       "      <td>1.05991</td>\n",
       "    </tr>\n",
       "  </tbody>\n",
       "</table>\n",
       "</div>"
      ],
      "text/plain": [
       "                    Variable                Formula     Value\n",
       "0                      E[K1]                  E[K1]       0.1\n",
       "1                      E[K2]                  E[K2]      0.11\n",
       "2                    E[K1^2]                E[K1^2]     0.038\n",
       "3                    E[K2^2]                E[K2^2]    0.0375\n",
       "4                    Var(K1)       E(K1^2)- E[K1]^2     0.028\n",
       "5                    Var(K2)       E(K2^2)- E[K2]^2    0.0254\n",
       "6                 StdDev(K1)          sqrt(Var(K1))  0.167332\n",
       "7                 StdDev(K2)          sqrt(Var(K2))  0.159374\n",
       "8                   E[K1*K2]               E[K1*K2]    -0.007\n",
       "9                Cov(K1, K2)            Cov(K1, K2)    -0.018\n",
       "10                       p12                    p12 -0.674958\n",
       "11                        w1                     w1  0.485459\n",
       "12                        w2                     w2  0.514541\n",
       "13     stdDev(K1)/stdDev(K2)  stdDev(K1)/stdDev(K2)  0.943478\n",
       "14  stdDev(K2)/stdDev(K1)**   stdDev(K2)/stdDev(K1)   1.05991"
      ]
     },
     "metadata": {},
     "output_type": "display_data"
    },
    {
     "name": "stdout",
     "output_type": "stream",
     "text": [
      "**if std(K1)>std(K2)\n"
     ]
    }
   ],
   "source": [
    "p = [0.2, 0.4, 0.4]\n",
    "k1 = [-0.1, 0, 0.3]\n",
    "k2 = [0.05, 0.3, -0.05]\n",
    "\n",
    "x = FM.two_securities(p, k1, k2)"
   ]
  },
  {
   "cell_type": "code",
   "execution_count": null,
   "metadata": {},
   "outputs": [],
   "source": [
    "# HW 6 Question 4:"
   ]
  },
  {
   "cell_type": "code",
   "execution_count": null,
   "metadata": {},
   "outputs": [],
   "source": [
    "PV = 45\n",
    "FV = 45\n",
    "maturity = 1/2"
   ]
  },
  {
   "cell_type": "code",
   "execution_count": 10,
   "metadata": {},
   "outputs": [
    {
     "name": "stdout",
     "output_type": "stream",
     "text": [
      "price at the start of the year is  114.5322895579087\n",
      "price at the end of the year is  124.07134810928619\n"
     ]
    }
   ],
   "source": [
    "coupon = 12\n",
    "FV = 100\n",
    "time_to_maturity = 5\n",
    "rate =  0.08\n",
    "\n",
    "import math\n",
    "startPrice = sum([coupon*math.exp(-rate*i) for i in range(1, time_to_maturity+1)]) + FV*math.exp(-rate*time_to_maturity)\n",
    "endPrice = sum([coupon*math.exp(-rate*i) for i in range(time_to_maturity)]) + FV*math.exp(-rate*(time_to_maturity-1))\n",
    "\n",
    "print(\"price at the start of the year is \", startPrice)\n",
    "print(\"price at the end of the year is \", endPrice)\n"
   ]
  },
  {
   "cell_type": "code",
   "execution_count": null,
   "metadata": {},
   "outputs": [],
   "source": []
  }
 ],
 "metadata": {
  "kernelspec": {
   "display_name": "Python 3",
   "language": "python",
   "name": "python3"
  },
  "language_info": {
   "codemirror_mode": {
    "name": "ipython",
    "version": 3
   },
   "file_extension": ".py",
   "mimetype": "text/x-python",
   "name": "python",
   "nbconvert_exporter": "python",
   "pygments_lexer": "ipython3",
   "version": "3.7.6"
  }
 },
 "nbformat": 4,
 "nbformat_minor": 4
}
